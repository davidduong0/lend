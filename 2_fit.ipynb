{
 "cells": [
  {
   "cell_type": "code",
   "execution_count": 6,
   "metadata": {},
   "outputs": [],
   "source": [
    "import pandas as pd\n",
    "import numpy as np\n",
    "import matplotlib.pyplot as plt\n",
    "import seaborn as sns\n",
    "import os\n",
    "import re\n",
    "from collections import Counter\n",
    "# import statsmodels.api as sm\n",
    "from xgboost import XGBClassifier\n",
    "#import lightgbm as lgb\n",
    "from sklearn.metrics import roc_auc_score, roc_curve, precision_recall_curve, auc, precision_score, recall_score, f1_score, confusion_matrix\n",
    "from datetime import datetime \n",
    "from sklearn.model_selection import RandomizedSearchCV\n",
    "import time\n",
    "# from shapely import wkt\n",
    "import warnings\n",
    "warnings.filterwarnings('ignore')\n",
    "\n",
    "%matplotlib inline\n",
    "\n",
    "pd.options.display.max_rows = 1000"
   ]
  },
  {
   "cell_type": "markdown",
   "metadata": {},
   "source": [
    "# 0. Input Cleaned Data"
   ]
  },
  {
   "cell_type": "code",
   "execution_count": 15,
   "metadata": {},
   "outputs": [],
   "source": [
    "FPATH = \"/Users/david.duong/dev/lending-club/\"\n",
    "FNAME= \"accepted_2007_2018.csv\"\n",
    "DEFAULT_CATS = ['Default', 'Charged Off', 'Does not meet the credit policy. Status:Charged Off']\n",
    "FULLY_PAID_CATS = ['Does not meet the credit policy. Status:Fully Paid','Fully Paid']\n"
   ]
  },
  {
   "cell_type": "code",
   "execution_count": 8,
   "metadata": {},
   "outputs": [],
   "source": [
    "training_data2 = pd.read_csv('cleaned_default_data_2.csv')\n",
    "training_data_recent2 = pd.read_csv('cleaned_default_data_recent.csv')"
   ]
  },
  {
   "cell_type": "markdown",
   "metadata": {},
   "source": [
    "# 1. Split Data (train, test etc.) "
   ]
  },
  {
   "cell_type": "code",
   "execution_count": null,
   "metadata": {},
   "outputs": [],
   "source": [
    "\n",
    "\n"
   ]
  },
  {
   "cell_type": "markdown",
   "metadata": {},
   "source": [
    "# 2. Fit Model"
   ]
  },
  {
   "cell_type": "code",
   "execution_count": 165,
   "metadata": {},
   "outputs": [
    {
     "name": "stdout",
     "output_type": "stream",
     "text": [
      "Dim of X_train: (1011073, 116)\n",
      "Dim of y_train: (1011073,)\n",
      "Dim of X_test: (337025, 116)\n",
      "Dim of y_test: (337025,)\n"
     ]
    }
   ],
   "source": [
    "# Get label for full data\n",
    "X = training_data2.drop('Default_flag', axis =1)\n",
    "y = training_data2.Default_flag\n",
    "\n",
    "# Split train-test set\n",
    "from sklearn.model_selection import train_test_split\n",
    "\n",
    "X_train, X_test, y_train, y_test = train_test_split(X, y, test_size=0.25, stratify = y, random_state=10000)\n",
    "\n",
    "print('Dim of X_train:', X_train.shape)\n",
    "print('Dim of y_train:', y_train.shape)\n",
    "print('Dim of X_test:', X_test.shape)\n",
    "print('Dim of y_test:', y_test.shape)\n"
   ]
  },
  {
   "cell_type": "code",
   "execution_count": 166,
   "metadata": {},
   "outputs": [
    {
     "name": "stdout",
     "output_type": "stream",
     "text": [
      "Dim of X_train: (838044, 116)\n",
      "Dim of y_train: (838044,)\n",
      "Dim of X_test: (279348, 116)\n",
      "Dim of y_test: (279348,)\n"
     ]
    }
   ],
   "source": [
    "# Get label for recent data (2014 issued loans - now)\n",
    "X_recent = training_data_recent2.drop('Default_flag', axis =1)\n",
    "y_recent = training_data_recent2.Default_flag\n",
    "\n",
    "# Split train-test set\n",
    "from sklearn.model_selection import train_test_split\n",
    "\n",
    "X_train_recent, X_test_recent, y_train_recent, y_test_recent = train_test_split(X_recent, y_recent, \n",
    "                                                                                test_size=0.25, stratify = y_recent, \n",
    "                                                                                random_state=10000)\n",
    "\n",
    "print('Dim of X_train:', X_train_recent.shape)\n",
    "print('Dim of y_train:', y_train_recent.shape)\n",
    "print('Dim of X_test:', X_test_recent.shape)\n",
    "print('Dim of y_test:', y_test_recent.shape)\n"
   ]
  },
  {
   "cell_type": "markdown",
   "metadata": {},
   "source": [
    "### Params"
   ]
  },
  {
   "cell_type": "code",
   "execution_count": 167,
   "metadata": {
    "collapsed": true
   },
   "outputs": [],
   "source": [
    "param = {'num_leaves':120, 'objective':'binary','max_depth':7,'learning_rate':.05,'max_bin':200}\n",
    "param['metric'] = ['auc', 'binary_logloss']\n",
    "\n",
    "\n",
    "def train_LightGBM(X_train, y_train, param, num_round):\n",
    "    train_data = lgb.Dataset(X_train, label = y_train)\n",
    "    \n",
    "    start=datetime.now()\n",
    "    lgbm=lgb.train(param,train_data,num_round)\n",
    "    stop=datetime.now()\n",
    "    \n",
    "    process_time = stop - start\n",
    "    print (\"Total training time:\", process_time)\n",
    "    return lgbm\n",
    "\n",
    "def LGBM_performance(preds, y_test, threshold=0.5):\n",
    "    pred_label = (preds >threshold).astype(int)\n",
    "    \n",
    "    print (\"AUC score = \", roc_auc_score(y_test, preds))\n",
    "    print (\"Precision = \",precision_score(y_test, pred_label) )\n",
    "    print ('Recall = ', recall_score(y_test, pred_label))\n",
    "    print ('F1 score = ', f1_score(y_test, pred_label))\n",
    "    \n",
    "\n",
    "    cm = confusion_matrix(y_test, pred_label)\n",
    "    ax = sns.heatmap(cm, cmap='viridis_r', annot=True, fmt='d', square=True)\n",
    "    ax.set_xlabel('Predicted')\n",
    "    ax.set_ylabel('Actual');\n",
    "    plt.show()\n",
    "    \n",
    "def get_feature_importances(model,train_X_cols, top_n = 10):\n",
    "    \"\"\"\n",
    "    Plot top N important features from tree models\n",
    "    Also return a dataframe of features with the importance score\n",
    "    \"\"\"\n",
    "    plt.figure(figsize=(8,12))\n",
    "    #Get list of feature importance\n",
    "    feature_importances = pd.DataFrame(model.feature_importances_,\n",
    "                                   index = train_X_cols,\n",
    "                                   columns=['importance']).sort_values('importance', ascending=False)\n",
    "    \n",
    "    #Visualize top 10 feature importance\n",
    "    top_vars = feature_importances[:top_n]\n",
    "    sns.barplot(y = top_vars.index, x = top_vars.importance, palette=\"Blues_d\");\n",
    "    plt.title(\"Top {} Important Features\".format(top_n), fontsize = 18);\n",
    "    plt.show()\n",
    "    \n",
    "    return feature_importances\n",
    "\n",
    "def XGB_performance(preds, y_test, threshold=0.5):\n",
    "    pred_label = (preds[:,1] > threshold).astype(int)\n",
    "    print (\"AUC score = \", roc_auc_score(y_test, preds[:,1]))\n",
    "    print (\"Precision = \",precision_score(y_test, pred_label) )\n",
    "    print ('Recall = ', recall_score(y_test, pred_label))\n",
    "    print ('F1 score = ', f1_score(y_test, pred_label))\n",
    "    \n",
    "\n",
    "    cm = confusion_matrix(y_test, pred_label)\n",
    "    ax = sns.heatmap(cm, cmap='viridis_r', annot=True, fmt='d', square=True)\n",
    "    ax.set_xlabel('Predicted')\n",
    "    ax.set_ylabel('Actual');\n",
    "    plt.show()"
   ]
  },
  {
   "cell_type": "code",
   "execution_count": 168,
   "metadata": {
    "collapsed": true
   },
   "outputs": [],
   "source": [
    "# Params for xgboost\n",
    "\n",
    "xgbparams = {'objective':'binary:logistic',\n",
    "                'subsample': 0.9, \n",
    "             'reg_lambda': 50.0, \n",
    "             'reg_gamma': 0.005, \n",
    "             'n_estimators': 500, \n",
    "             'min_child_weight': 0.5, \n",
    "             'max_depth': 5, \n",
    "             'learning_rate': 0.1, \n",
    "             'gamma': 0.25, \n",
    "             'colsample_bytree': 1.0, \n",
    "             'colsample_bylevel': 1.0,\n",
    "                'n_jobs': -1}\n",
    "\n"
   ]
  },
  {
   "cell_type": "markdown",
   "metadata": {},
   "source": [
    "## Models"
   ]
  },
  {
   "cell_type": "markdown",
   "metadata": {},
   "source": [
    "### LightGBM"
   ]
  },
  {
   "cell_type": "code",
   "execution_count": null,
   "metadata": {
    "scrolled": true
   },
   "outputs": [
    {
     "name": "stdout",
     "output_type": "stream",
     "text": [
      "Total training time: 0:00:38.503076\n",
      "Total training time: 0:00:38.341886\n",
      "Total training time: 0:00:40.412647\n",
      "Total training time: 0:00:40.752653\n",
      "Total training time: 0:00:41.272532\n",
      "Total training time: 0:00:43.356587\n",
      "Total training time: 0:00:42.461215\n",
      "Total training time: 0:00:42.571366\n",
      "Total training time: 0:00:43.638897\n",
      "Total training time: 0:00:43.977070\n",
      "Total training time: 0:00:44.198765\n",
      "Total training time: 0:00:44.070652\n",
      "Total training time: 0:00:52.050238\n",
      "Total training time: 0:00:59.511080\n",
      "Total training time: 0:00:52.444689\n",
      "Total training time: 0:00:50.339987\n",
      "Total training time: 0:00:47.122981\n",
      "Total training time: 0:00:48.834234\n",
      "Total training time: 0:00:48.514800\n",
      "Total training time: 0:00:48.672305\n",
      "Total training time: 0:00:50.522262\n",
      "Total training time: 0:00:50.826313\n",
      "Total training time: 0:00:50.535314\n",
      "Total training time: 0:00:51.498441\n",
      "Total training time: 0:00:50.688126\n",
      "Total training time: 0:00:52.818286\n",
      "Total training time: 0:00:55.330825\n",
      "Total training time: 0:00:55.162514\n",
      "Total training time: 0:00:54.292192\n",
      "Total training time: 0:00:55.800004\n",
      "Total training time: 0:00:55.414617\n",
      "Total training time: 0:00:55.469943\n",
      "Total training time: 0:00:56.536007\n",
      "Total training time: 0:00:57.908648\n",
      "Total training time: 0:00:57.106679\n",
      "Total training time: 0:00:59.854715\n",
      "Total training time: 0:00:58.185723\n",
      "Total training time: 0:01:01.074345\n",
      "Total training time: 0:00:59.756129\n",
      "Total training time: 0:01:01.231709\n",
      "Total training time: 0:00:59.489342\n",
      "Total training time: 0:01:00.832747\n",
      "Total training time: 0:01:01.346437\n",
      "Total training time: 0:01:01.850609\n",
      "Total training time: 0:01:04.353648\n",
      "Total training time: 0:01:14.230685\n",
      "Total training time: 0:01:02.719959\n",
      "Total training time: 0:01:04.880770\n",
      "Total training time: 0:01:07.882856\n",
      "Total training time: 0:01:07.180370\n",
      "Total training time: 0:01:34.388175\n",
      "Total training time: 0:01:28.524153\n",
      "Total training time: 0:01:10.759733\n",
      "Total training time: 0:01:07.316986\n",
      "Total training time: 0:01:09.490817\n",
      "Total training time: 0:01:09.441314\n",
      "Total training time: 0:01:12.707430\n",
      "Total training time: 0:01:09.579383\n",
      "Total training time: 0:01:10.590873\n",
      "Total training time: 0:01:12.598213\n",
      "Total training time: 0:01:10.769851\n",
      "Total training time: 0:01:12.796197\n",
      "Total training time: 0:01:11.515992\n",
      "Total training time: 0:01:12.564399\n",
      "Total training time: 0:01:13.299961\n",
      "Total training time: 0:01:11.806497\n",
      "Total training time: 0:01:12.297343\n",
      "Total training time: 0:01:24.431151\n",
      "Total training time: 0:01:24.713572\n",
      "Total training time: 0:01:24.486026\n",
      "Total training time: 0:01:14.878206\n",
      "Total training time: 0:01:17.117541\n",
      "Total training time: 0:01:15.277934\n",
      "Total training time: 0:01:16.831731\n",
      "Total training time: 0:01:17.440257\n",
      "Total training time: 0:01:18.230977\n",
      "Total training time: 0:01:17.436926\n",
      "Total training time: 0:01:19.015110\n",
      "Total training time: 0:01:19.023312\n",
      "Total training time: 0:01:18.920933\n",
      "Total training time: 0:01:20.217247\n",
      "Total training time: 0:01:21.298143\n",
      "Total training time: 0:01:21.965418\n"
     ]
    }
   ],
   "source": [
    "# LightGBM for full data\n",
    "\n",
    "num_rounds = np.arange(500, 1400, 10)\n",
    "\n",
    "auc_scores = []\n",
    "\n",
    "for num_round in num_rounds:\n",
    "    \n",
    "    lgbm1 = train_LightGBM(X_train, y_train, param, num_round)\n",
    "\n",
    "    preds1 = lgbm1.predict(X_test)\n",
    "    \n",
    "    auc = roc_auc_score(y_test, preds1)\n",
    "    \n",
    "    auc_scores.append(auc)\n",
    "\n",
    "max_auc_idx = np.argmax(auc_scores)\n",
    "print ('{} Number of Rounds with max AUC score {}'.format(num_rounds[max_auc_idx], auc_scores[max_auc_idx]))"
   ]
  },
  {
   "cell_type": "code",
   "execution_count": 185,
   "metadata": {},
   "outputs": [
    {
     "name": "stdout",
     "output_type": "stream",
     "text": [
      "1020 Number of Rounds with max AUC score 0.7342697407389549\n"
     ]
    },
    {
     "data": {
      "text/plain": [
       "[<matplotlib.lines.Line2D at 0x7f0d1f319f40>]"
      ]
     },
     "execution_count": 185,
     "metadata": {},
     "output_type": "execute_result"
    },
    {
     "data": {
      "image/png": "[encoded data removed]",
      "text/plain": [
       "<Figure size 432x288 with 1 Axes>"
      ]
     },
     "metadata": {
      "needs_background": "light"
     },
     "output_type": "display_data"
    }
   ],
   "source": [
    "print ('{} Number of Rounds with max AUC score {}'.format(num_rounds[max_auc_idx], auc_scores[max_auc_idx]))\n",
    "plt.plot(num_rounds, auc_scores)"
   ]
  },
  {
   "cell_type": "code",
   "execution_count": null,
   "metadata": {
    "collapsed": true
   },
   "outputs": [],
   "source": [
    "# Light GBM for recent data\n",
    "num_rounds2 = np.arange(500, 1200, 10)\n",
    "\n",
    "auc_scores_recent = []\n",
    "\n",
    "for num_round in num_rounds2:\n",
    "    \n",
    "    lgbm1 = train_LightGBM(X_train_recent, y_train_recent, param, num_round)\n",
    "\n",
    "    preds1 = lgbm1.predict(X_test_recent)\n",
    "    \n",
    "    auc = roc_auc_score(y_test_recent, preds1)\n",
    "    \n",
    "    auc_scores_recent.append(auc)\n",
    "\n",
    "max_auc_idx_recent = np.argmax(auc_scores_recent)\n",
    "print ('For loans issued 2014 -now: {} Number of Rounds with max AUC score {}'.format(num_rounds[max_auc_idx_recent], auc_scores_recent[max_auc_idx_recent]))\n"
   ]
  },
  {
   "cell_type": "code",
   "execution_count": 189,
   "metadata": {},
   "outputs": [
    {
     "name": "stdout",
     "output_type": "stream",
     "text": [
      "For loans issued 2014 -now: 810 Number of Rounds with max AUC score 0.7371594534778951\n"
     ]
    },
    {
     "data": {
      "text/plain": [
       "[<matplotlib.lines.Line2D at 0x7f0d679ac7c0>]"
      ]
     },
     "execution_count": 189,
     "metadata": {},
     "output_type": "execute_result"
    },
    {
     "data": {
      "image/png": "[encoded data removed]",
      "text/plain": [
       "<Figure size 432x288 with 1 Axes>"
      ]
     },
     "metadata": {
      "needs_background": "light"
     },
     "output_type": "display_data"
    }
   ],
   "source": [
    "print ('For loans issued 2014 -now: {} Number of Rounds with max AUC score {}'.format(num_rounds[max_auc_idx_recent], auc_scores_recent[max_auc_idx_recent]))\n",
    "\n",
    "plt.plot(num_rounds2, auc_scores_recent)"
   ]
  },
  {
   "cell_type": "code",
   "execution_count": 186,
   "metadata": {},
   "outputs": [
    {
     "name": "stdout",
     "output_type": "stream",
     "text": [
      "Total training time: 0:01:04.138872\n"
     ]
    }
   ],
   "source": [
    "num_round = 1020\n",
    "\n",
    "lgbm1 = train_LightGBM(X_train, y_train, param, num_round)\n",
    "\n",
    "preds1 = lgbm1.predict(X_test)"
   ]
  },
  {
   "cell_type": "code",
   "execution_count": 187,
   "metadata": {},
   "outputs": [
    {
     "data": {
      "text/plain": [
       "0.796001468588246"
      ]
     },
     "execution_count": 187,
     "metadata": {},
     "output_type": "execute_result"
    }
   ],
   "source": [
    "train_preds = lgbm1.predict(X_train)\n",
    "roc_auc_score(y_train, train_preds)"
   ]
  },
  {
   "cell_type": "code",
   "execution_count": 188,
   "metadata": {},
   "outputs": [
    {
     "name": "stdout",
     "output_type": "stream",
     "text": [
      "AUC score =  0.7342697407389549\n",
      "Precision =  0.33407126522441166\n",
      "Recall =  0.679002079002079\n",
      "F1 score =  0.44781571821026495\n"
     ]
    },
    {
     "data": {
      "image/png": "[encoded data removed]",
      "text/plain": [
       "<Figure size 432x288 with 2 Axes>"
      ]
     },
     "metadata": {
      "needs_background": "light"
     },
     "output_type": "display_data"
    }
   ],
   "source": [
    "LGBM_performance(preds1, y_test, threshold=0.2)"
   ]
  },
  {
   "cell_type": "code",
   "execution_count": null,
   "metadata": {
    "collapsed": true
   },
   "outputs": [],
   "source": []
  },
  {
   "cell_type": "markdown",
   "metadata": {},
   "source": [
    "### XGBoost"
   ]
  },
  {
   "cell_type": "code",
   "execution_count": 31,
   "metadata": {},
   "outputs": [
    {
     "name": "stdout",
     "output_type": "stream",
     "text": [
      "Randomized search..\n",
      "Randomized search time: 12306.871062517166\n"
     ]
    }
   ],
   "source": [
    "# Params search for xgboost\n",
    "param_grid = {\n",
    "        'n_estimators': [100, 50, 150, 200, 500],\n",
    "        'max_depth': [3, 5, 10],\n",
    "        'learning_rate': [0.001, 0.01, 0.1, 0.2, 0,3],\n",
    "        'subsample': [0.5, 0.6, 0.7, 0.8, 0.9, 1.0],\n",
    "        'colsample_bytree': [0.4, 0.5, 0.6, 0.7, 0.8, 0.9, 1.0],\n",
    "        'colsample_bylevel': [0.4, 0.5, 0.6, 0.7, 0.8, 0.9, 1.0],\n",
    "        'min_child_weight': [0.5, 1.0, 3.0, 5.0, 7.0, 10.0],\n",
    "        'gamma': [0, 0.25, 0.5, 1.0],\n",
    "        'reg_gamma': [0.005, 0.0001, 0.01, 0],\n",
    "        'reg_lambda': [ 0.5, 0.1, 1.0, 5.0, 10.0, 50.0, 100.0]}\n",
    "\n",
    "n_iter_search = 50\n",
    "\n",
    "xgbsearch = XGBClassifier(n_jobs = -1)\n",
    "\n",
    "rs_xgboost = RandomizedSearchCV(xgbsearch, param_distributions=param_grid,\n",
    "                                   n_iter=n_iter_search, cv = 3, n_jobs = -1, \n",
    "                                   scoring = 'roc_auc',\n",
    "                                  random_state=142)\n",
    "\n",
    "print(\"Randomized search..\")\n",
    "search_time_start = time.time()\n",
    "rs_xgboost.fit(X_train, y_train)\n",
    "print(\"Randomized search time:\", time.time() - search_time_start)"
   ]
  },
  {
   "cell_type": "code",
   "execution_count": 32,
   "metadata": {},
   "outputs": [
    {
     "name": "stdout",
     "output_type": "stream",
     "text": [
      "Best Index: 11\n",
      "Best Parameters: {'subsample': 0.9, 'reg_lambda': 50.0, 'reg_gamma': 0.005, 'n_estimators': 500, 'min_child_weight': 0.5, 'max_depth': 5, 'learning_rate': 0.1, 'gamma': 0.25, 'colsample_bytree': 1.0, 'colsample_bylevel': 1.0}\n"
     ]
    }
   ],
   "source": [
    "print (\"Best Index:\",rs_xgboost.best_index_)\n",
    "print (\"Best Parameters:\",rs_xgboost.best_params_)"
   ]
  },
  {
   "cell_type": "markdown",
   "metadata": {},
   "source": [
    "#### For full data 2007 - now"
   ]
  },
  {
   "cell_type": "code",
   "execution_count": null,
   "metadata": {},
   "outputs": [],
   "source": [
    "# XGBoost\n",
    "\n",
    "xgboost1 = XGBClassifier(**xgbparams)\n",
    "\n",
    "xgboost1.fit(X_train, y_train)"
   ]
  },
  {
   "cell_type": "code",
   "execution_count": 190,
   "metadata": {
    "collapsed": true
   },
   "outputs": [],
   "source": [
    "# Make predictions\n",
    "probs_xgb = xgboost1.predict_proba(X_test)"
   ]
  },
  {
   "cell_type": "code",
   "execution_count": 191,
   "metadata": {},
   "outputs": [
    {
     "data": {
      "text/plain": [
       "0.7517889678702073"
      ]
     },
     "execution_count": 191,
     "metadata": {},
     "output_type": "execute_result"
    }
   ],
   "source": [
    "# Get train auc score\n",
    "probs_train = xgboost1.predict_proba(X_train)\n",
    "roc_auc_score(y_train,probs_train[:,1])"
   ]
  },
  {
   "cell_type": "code",
   "execution_count": 192,
   "metadata": {},
   "outputs": [
    {
     "name": "stdout",
     "output_type": "stream",
     "text": [
      "AUC score =  0.7342064066108785\n",
      "Precision =  0.3326945412311266\n",
      "Recall =  0.6806058806058806\n",
      "F1 score =  0.4469234519746465\n"
     ]
    },
    {
     "data": {
      "image/png": "[encoded data removed]",
      "text/plain": [
       "<Figure size 432x288 with 2 Axes>"
      ]
     },
     "metadata": {
      "needs_background": "light"
     },
     "output_type": "display_data"
    }
   ],
   "source": [
    "XGB_performance(probs_xgb, y_test, threshold=0.2)"
   ]
  },
  {
   "cell_type": "code",
   "execution_count": 193,
   "metadata": {
    "scrolled": false
   },
   "outputs": [
    {
     "data": {
      "image/png": "[encoded data removed]",
      "text/plain": [
       "<Figure size 576x864 with 1 Axes>"
      ]
     },
     "metadata": {
      "needs_background": "light"
     },
     "output_type": "display_data"
    }
   ],
   "source": [
    "f_imps1 = get_feature_importances(xgboost1, X_train.columns, top_n=20)"
   ]
  },
  {
   "cell_type": "markdown",
   "metadata": {},
   "source": [
    "#### For recent data: 2014 - now"
   ]
  },
  {
   "cell_type": "code",
   "execution_count": null,
   "metadata": {
    "collapsed": true
   },
   "outputs": [],
   "source": [
    "xgb_recent = XGBClassifier(**xgbparams)\n",
    "\n",
    "xgb_recent.fit(X_train_recent, y_train_recent)"
   ]
  },
  {
   "cell_type": "code",
   "execution_count": 194,
   "metadata": {
    "collapsed": true
   },
   "outputs": [],
   "source": [
    "# Make predictions\n",
    "probs_xgb_recent = xgb_recent.predict_proba(X_test_recent)\n"
   ]
  },
  {
   "cell_type": "code",
   "execution_count": 195,
   "metadata": {},
   "outputs": [
    {
     "data": {
      "text/plain": [
       "0.7571887510719919"
      ]
     },
     "execution_count": 195,
     "metadata": {},
     "output_type": "execute_result"
    }
   ],
   "source": [
    "# Get train auc score\n",
    "probs_train_recent = xgb_recent.predict_proba(X_train_recent)\n",
    "roc_auc_score(y_train_recent,probs_train_recent[:,1])"
   ]
  },
  {
   "cell_type": "code",
   "execution_count": 196,
   "metadata": {},
   "outputs": [
    {
     "name": "stdout",
     "output_type": "stream",
     "text": [
      "AUC score =  0.7369974044367316\n",
      "Precision =  0.33852299330419267\n",
      "Recall =  0.7091828860499014\n",
      "F1 score =  0.4582864678276384\n"
     ]
    },
    {
     "data": {
      "image/png": "[encoded data removed]",
      "text/plain": [
       "<Figure size 432x288 with 2 Axes>"
      ]
     },
     "metadata": {
      "needs_background": "light"
     },
     "output_type": "display_data"
    }
   ],
   "source": [
    "XGB_performance(probs_xgb_recent, y_test_recent, threshold=0.2)"
   ]
  },
  {
   "cell_type": "code",
   "execution_count": 197,
   "metadata": {},
   "outputs": [
    {
     "data": {
      "image/png": "[encoded data removed]",
      "text/plain": [
       "<Figure size 576x864 with 1 Axes>"
      ]
     },
     "metadata": {
      "needs_background": "light"
     },
     "output_type": "display_data"
    }
   ],
   "source": [
    "f_imps2 = get_feature_importances(xgb_recent, X_train_recent.columns, top_n=20)"
   ]
  },
  {
   "cell_type": "code",
   "execution_count": null,
   "metadata": {
    "collapsed": true
   },
   "outputs": [],
   "source": []
  }
 ],
 "metadata": {
  "kernelspec": {
   "display_name": "Python 3",
   "language": "python",
   "name": "python3"
  },
  "language_info": {
   "codemirror_mode": {
    "name": "ipython",
    "version": 3
   },
   "file_extension": ".py",
   "mimetype": "text/x-python",
   "name": "python",
   "nbconvert_exporter": "python",
   "pygments_lexer": "ipython3",
   "version": "3.6.5"
  }
 },
 "nbformat": 4,
 "nbformat_minor": 2
}
